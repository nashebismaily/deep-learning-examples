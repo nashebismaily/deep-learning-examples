{
 "cells": [
  {
   "cell_type": "markdown",
   "metadata": {
    "id": "z1BMmhrW4-VF"
   },
   "source": [
    "# A tutorial introduction into deep learning with Keras and Tensorflow.  We will use the MNIST dataset which is the 'Hello world' problem of deep learning"
   ]
  },
  {
   "cell_type": "markdown",
   "metadata": {
    "id": "sfjjxqk-4-VY"
   },
   "source": [
    "I always like to start my jupternotebooks with this code because it fits the display window to my screen."
   ]
  },
  {
   "cell_type": "code",
   "execution_count": 1,
   "metadata": {
    "colab": {
     "base_uri": "https://localhost:8080/",
     "height": 17
    },
    "id": "oq3zQaj94-Vf",
    "outputId": "0375de18-9654-4b22-89c1-f6e04c750bc0"
   },
   "outputs": [
    {
     "data": {
      "text/html": [
       "<style>.container { width:95% !important; }</style>"
      ],
      "text/plain": [
       "<IPython.core.display.HTML object>"
      ]
     },
     "metadata": {},
     "output_type": "display_data"
    }
   ],
   "source": [
    "from IPython.core.display import display, HTML\n",
    "display(HTML(\"<style>.container { width:95% !important; }</style>\"))"
   ]
  },
  {
   "cell_type": "markdown",
   "metadata": {
    "id": "JTIiJaMH4-We"
   },
   "source": [
    "### This tutrial was adapted from Deep Learning with Python Chapter 2 Chollet, F. (2017). Deep Learning with Python (1st ed.). Greenwich, CT, USA: Manning Publications Co."
   ]
  },
  {
   "cell_type": "markdown",
   "metadata": {
    "id": "L7J8caRE4-Wv"
   },
   "source": [
    "Start with some definitions.\n",
    "Numerical data in an array are called tensors.  https://en.wikipedia.org/wiki/Tensor."
   ]
  },
  {
   "cell_type": "markdown",
   "metadata": {
    "id": "pYhqLSfB4-W5"
   },
   "source": [
    "Scalars are 0 dimensional tensors (a single digit). "
   ]
  },
  {
   "cell_type": "code",
   "execution_count": 2,
   "metadata": {
    "colab": {
     "base_uri": "https://localhost:8080/",
     "height": 54
    },
    "id": "sq1dfmTjXx1r",
    "outputId": "ddf0f915-fadf-4d87-cb65-308a51296a37"
   },
   "outputs": [
    {
     "name": "stdout",
     "output_type": "stream",
     "text": [
      "The value of x is 12\n",
      "The dimension of this tensor is 0\n"
     ]
    }
   ],
   "source": [
    "import numpy as np\n",
    "x = np.array(12)\n",
    "print('The value of x is', x)\n",
    "print('The dimension of this tensor is', x.ndim) # 0 dimensions"
   ]
  },
  {
   "cell_type": "markdown",
   "metadata": {
    "id": "Yd6j127g4-Xg"
   },
   "source": [
    "A 1 dimensional tensor is also called a vector"
   ]
  },
  {
   "cell_type": "code",
   "execution_count": 3,
   "metadata": {
    "colab": {
     "base_uri": "https://localhost:8080/",
     "height": 54
    },
    "id": "_iWxjAcgYF2H",
    "outputId": "3d2447cf-76b2-4034-d6a1-dcd12ccf55ae"
   },
   "outputs": [
    {
     "name": "stdout",
     "output_type": "stream",
     "text": [
      "The value of x is [12  1  2  3]\n",
      "The dimention of this tensor is 1\n"
     ]
    }
   ],
   "source": [
    "x = np.array([12, 1, 2, 3]) #create a vector\n",
    "print('The value of x is', x)\n",
    "print('The dimention of this tensor is', x.ndim) # 1 dimensions"
   ]
  },
  {
   "cell_type": "markdown",
   "metadata": {
    "id": "SZnkKqX74-YS"
   },
   "source": [
    "A 2 dimensional tensor is also called a matrix"
   ]
  },
  {
   "cell_type": "code",
   "execution_count": 4,
   "metadata": {
    "colab": {
     "base_uri": "https://localhost:8080/",
     "height": 90
    },
    "id": "kw6vcniRYMga",
    "outputId": "f4ee5bc7-965a-4d85-b493-c50238941adb"
   },
   "outputs": [
    {
     "name": "stdout",
     "output_type": "stream",
     "text": [
      "The value of x is [[12  1  2  3]\n",
      " [ 5  6  7  8]\n",
      " [10 11 12 12]]\n",
      "The dimension of this tensor is 2\n"
     ]
    }
   ],
   "source": [
    "x = np.array([[12, 1, 2, 3],\n",
    "              [5, 6, 7, 8,],\n",
    "              [10, 11, 12, 12]])\n",
    "print('The value of x is', x) # Print the 3 x 4 matrix\n",
    "print('The dimension of this tensor is', x.ndim) # 2 dimensions"
   ]
  },
  {
   "cell_type": "markdown",
   "metadata": {
    "id": "JDXBkNgF4-ZH"
   },
   "source": [
    "We can create n dimensional tensors easily, although they become difficult to visualize.\n",
    "This 3D tensor is like a cube of data.  "
   ]
  },
  {
   "cell_type": "code",
   "execution_count": 5,
   "metadata": {
    "colab": {
     "base_uri": "https://localhost:8080/",
     "height": 237
    },
    "id": "7unoEvdhYbYR",
    "outputId": "35ecfa50-0dd5-4794-d417-c55fb2708995"
   },
   "outputs": [
    {
     "name": "stdout",
     "output_type": "stream",
     "text": [
      "The value of x is [[[12  1  2  3]\n",
      "  [ 5  6  7  8]\n",
      "  [10 11 12 12]]\n",
      "\n",
      " [[ 2  2  2  2]\n",
      "  [ 3  3  3  3]\n",
      "  [ 4  4  4  4]]\n",
      "\n",
      " [[ 5  5  5  5]\n",
      "  [ 6  6  6  6]\n",
      "  [ 7  7  7  7]]]\n",
      "The dimension of this tensor is 3\n"
     ]
    }
   ],
   "source": [
    "x = np.array([[[12, 1, 2, 3],\n",
    "               [5, 6, 7, 8,],\n",
    "               [10, 11, 12, 12]],\n",
    "              [[2, 2, 2, 2,],\n",
    "               [3,3,3,3],\n",
    "               [4,4,4,4]],\n",
    "              [[5,5,5,5],\n",
    "               [6,6,6,6],\n",
    "               [7,7,7,7]]])\n",
    "print('The value of x is', x)\n",
    "print('The dimension of this tensor is', x.ndim) # 3 dimensional array"
   ]
  },
  {
   "cell_type": "markdown",
   "metadata": {
    "id": "6QrNkyOM4-Z0"
   },
   "source": [
    "#### Reshaping tensors is important concept to understand.  We can reshape a tensor as long as it has the same number of coefficients as the initial tensor."
   ]
  },
  {
   "cell_type": "code",
   "execution_count": 6,
   "metadata": {
    "colab": {
     "base_uri": "https://localhost:8080/",
     "height": 752
    },
    "id": "x5jul5ly4-Z6",
    "outputId": "32959098-e2c0-4060-f79e-f121b612ae36"
   },
   "outputs": [
    {
     "name": "stdout",
     "output_type": "stream",
     "text": [
      "[[12]\n",
      " [ 1]\n",
      " [ 2]\n",
      " [ 3]\n",
      " [ 5]\n",
      " [ 6]\n",
      " [ 7]\n",
      " [ 8]\n",
      " [10]\n",
      " [11]\n",
      " [12]\n",
      " [12]\n",
      " [ 2]\n",
      " [ 2]\n",
      " [ 2]\n",
      " [ 2]\n",
      " [ 3]\n",
      " [ 3]\n",
      " [ 3]\n",
      " [ 3]\n",
      " [ 4]\n",
      " [ 4]\n",
      " [ 4]\n",
      " [ 4]\n",
      " [ 5]\n",
      " [ 5]\n",
      " [ 5]\n",
      " [ 5]\n",
      " [ 6]\n",
      " [ 6]\n",
      " [ 6]\n",
      " [ 6]\n",
      " [ 7]\n",
      " [ 7]\n",
      " [ 7]\n",
      " [ 7]]\n",
      "[[12  1  2  3  5  6  7  8 10]\n",
      " [11 12 12  2  2  2  2  3  3]\n",
      " [ 3  3  4  4  4  4  5  5  5]\n",
      " [ 5  6  6  6  6  7  7  7  7]]\n"
     ]
    }
   ],
   "source": [
    "x = x.reshape(3*3*4,1)\n",
    "print(x)\n",
    "x = x.reshape(4, 3*3)\n",
    "print(x)"
   ]
  },
  {
   "cell_type": "markdown",
   "metadata": {
    "id": "ihVQabEo4-aS"
   },
   "source": [
    "##### Tensors have three atributes: number of axis (dimensions), shape (length of each axis), and data type (typically we will use float32)"
   ]
  },
  {
   "cell_type": "markdown",
   "metadata": {
    "id": "CUA1N4pS4-aY"
   },
   "source": [
    "Load the MNIST library which is part of Keras.  MNIST stands for Modified National Institute of Technology. https://en.wikipedia.org/wiki/MNIST_database. It is a collection of 60,000 training and 10,000 test images of the digits 0-9. https://keras.io/datasets/. We will build a deep learning nerual net model to classify the 10 digits. This is the 'Hello World' problem of deep learning. "
   ]
  },
  {
   "cell_type": "code",
   "execution_count": 7,
   "metadata": {
    "id": "1AG-iMB8P3DZ"
   },
   "outputs": [],
   "source": [
    "# From the tensorflow data sets import MNIST\n",
    "from tensorflow.keras.datasets import mnist"
   ]
  },
  {
   "cell_type": "code",
   "execution_count": 8,
   "metadata": {
    "colab": {
     "base_uri": "https://localhost:8080/",
     "height": 54
    },
    "id": "5Efu6_zaQKtQ",
    "outputId": "b469ac37-38b7-43d0-8521-49819b011a79"
   },
   "outputs": [],
   "source": [
    "(train_images, train_labels),(test_images, test_labels) = mnist.load_data()"
   ]
  },
  {
   "cell_type": "code",
   "execution_count": 9,
   "metadata": {
    "colab": {
     "base_uri": "https://localhost:8080/",
     "height": 35
    },
    "id": "ZYu3aOo4Qn9R",
    "outputId": "769f97fb-a084-4a99-e885-cb0531b87883"
   },
   "outputs": [
    {
     "data": {
      "text/plain": [
       "(60000, 28, 28)"
      ]
     },
     "execution_count": 9,
     "metadata": {},
     "output_type": "execute_result"
    }
   ],
   "source": [
    "train_images.shape #60,000 images that are 28 pixles by 28 pixles"
   ]
  },
  {
   "cell_type": "code",
   "execution_count": 10,
   "metadata": {
    "colab": {
     "base_uri": "https://localhost:8080/",
     "height": 35
    },
    "id": "73Jt87YRZBXe",
    "outputId": "2a7cc881-8643-4066-ea63-61b49e3aa246"
   },
   "outputs": [
    {
     "data": {
      "text/plain": [
       "3"
      ]
     },
     "execution_count": 10,
     "metadata": {},
     "output_type": "execute_result"
    }
   ],
   "source": [
    "train_images.ndim #3D tensor"
   ]
  },
  {
   "cell_type": "code",
   "execution_count": 11,
   "metadata": {
    "colab": {
     "base_uri": "https://localhost:8080/",
     "height": 54
    },
    "id": "q_fgMe2h4-bm",
    "outputId": "c3aeaf92-3a62-4673-b127-1b96415f3d0b"
   },
   "outputs": [
    {
     "name": "stdout",
     "output_type": "stream",
     "text": [
      "The maximum value in the array is 255\n",
      "he minimum value in the array is 0\n"
     ]
    }
   ],
   "source": [
    "print('The maximum value in the array is', train_images.max()) # The maximum value in the array is 255\n",
    "print('he minimum value in the array is', train_images.min()) # The minimum value in the array is 0"
   ]
  },
  {
   "cell_type": "code",
   "execution_count": 12,
   "metadata": {
    "id": "ACNHKDMhZMtH"
   },
   "outputs": [],
   "source": [
    "# Get the shape, dimensions, max and min value of the test images"
   ]
  },
  {
   "cell_type": "code",
   "execution_count": 13,
   "metadata": {
    "colab": {
     "base_uri": "https://localhost:8080/",
     "height": 90
    },
    "id": "LvcS2anBQ8cd",
    "outputId": "820a862a-593c-4dcd-9d8a-a64b2aaf46ff"
   },
   "outputs": [
    {
     "name": "stdout",
     "output_type": "stream",
     "text": [
      "test image shape: (10000, 28, 28)\n",
      "number of dimensions: 3\n",
      "maximum value 255\n",
      "minimum value: 0\n"
     ]
    }
   ],
   "source": [
    "print('test image shape:', test_images.shape)\n",
    "print('number of dimensions:', test_images.ndim)\n",
    "print('maximum value', test_images.max())\n",
    "print('minimum value:', test_images.min())"
   ]
  },
  {
   "cell_type": "markdown",
   "metadata": {
    "id": "lAWThxtY4-co"
   },
   "source": [
    "In general the first axis in a tensor is the samples, the second axis is height, the third axis is the width, and the fourth is color channels (RGB = 3 & BW = 1)\n",
    "So image data will be a 4D tensor [samples, height, width, channels] the MNIST data is 3D bacause the color channel is black and white and thus = 1\n",
    "Video data will be a 5D tensor [samples, frames, height, width, channels]. By convention, time series data will be placed on the secod axis when present"
   ]
  },
  {
   "cell_type": "markdown",
   "metadata": {
    "id": "kavsqyWG4-cZ"
   },
   "source": [
    "Let's view one of the images.  We need to import matplotlib to view the digits "
   ]
  },
  {
   "cell_type": "code",
   "execution_count": 14,
   "metadata": {
    "id": "jwEiakpiZXnf"
   },
   "outputs": [],
   "source": [
    "import matplotlib.pyplot as plt"
   ]
  },
  {
   "cell_type": "code",
   "execution_count": 15,
   "metadata": {
    "colab": {
     "base_uri": "https://localhost:8080/",
     "height": 265
    },
    "id": "HvYknn0hZf51",
    "outputId": "889f44ad-6b4c-416c-df49-7a12b477db00"
   },
   "outputs": [
    {
     "data": {
      "image/png": "[encoded data removed]",
      "text/plain": [
       "<Figure size 432x288 with 1 Axes>"
      ]
     },
     "metadata": {
      "needs_background": "light"
     },
     "output_type": "display_data"
    }
   ],
   "source": [
    "digit = train_images[4] # Select the fouth sample.\n",
    "plt.imshow(digit, cmap=plt.cm.binary) # Show the sample.  cmap is the color map.  We will keep it black and white (binary)\n",
    "plt.show()"
   ]
  },
  {
   "cell_type": "code",
   "execution_count": 16,
   "metadata": {
    "id": "gSBcnrgsRPJ3"
   },
   "outputs": [],
   "source": [
    "# Import models and layers from tensorflow \n",
    "from tensorflow.keras import models\n",
    "from tensorflow.keras import layers"
   ]
  },
  {
   "cell_type": "code",
   "execution_count": 17,
   "metadata": {
    "id": "w8lxhcrHRV0x"
   },
   "outputs": [],
   "source": [
    "model = models.Sequential()\n",
    "model.add(layers.Dense(512, activation='relu',input_shape=(28 * 28,)))\n",
    "model.add(layers.Dense(10, activation='softmax'))"
   ]
  },
  {
   "cell_type": "code",
   "execution_count": 18,
   "metadata": {
    "id": "TcixP8_xR5j7"
   },
   "outputs": [],
   "source": [
    "model.compile(optimizer = 'adam',\n",
    "               loss = 'categorical_crossentropy',\n",
    "               metrics = ['accuracy'])"
   ]
  },
  {
   "cell_type": "code",
   "execution_count": 19,
   "metadata": {
    "colab": {
     "base_uri": "https://localhost:8080/",
     "height": 35
    },
    "id": "cEeckA5ESIMB",
    "outputId": "ee76ea3d-980e-4616-fd91-6ca038b01e6e"
   },
   "outputs": [
    {
     "name": "stdout",
     "output_type": "stream",
     "text": [
      "2\n"
     ]
    }
   ],
   "source": [
    "train_images =  train_images.reshape((60000, 28 * 28))\n",
    "train_images = train_images.astype('float32')/train_images.max()\n",
    "\n",
    "print(train_images.ndim)\n",
    "\n",
    "test_images =  test_images.reshape((10000, 28 * 28))\n",
    "test_images = test_images.astype('float32')/test_images.max()"
   ]
  },
  {
   "cell_type": "code",
   "execution_count": 20,
   "metadata": {
    "colab": {
     "base_uri": "https://localhost:8080/",
     "height": 283
    },
    "id": "Crqw7E-x4-eh",
    "outputId": "14f50c1a-cd40-4b1a-f812-dbba438fd30b"
   },
   "outputs": [
    {
     "data": {
      "text/plain": [
       "<matplotlib.image.AxesImage at 0x7f32a99cc3c8>"
      ]
     },
     "execution_count": 20,
     "metadata": {},
     "output_type": "execute_result"
    },
    {
     "data": {
      "image/png": "[encoded data removed]",
      "text/plain": [
       "<Figure size 432x288 with 1 Axes>"
      ]
     },
     "metadata": {
      "needs_background": "light"
     },
     "output_type": "display_data"
    }
   ],
   "source": [
    "plt.imshow(train_images.reshape((60000,28,28))[4], cmap=plt.cm.binary)"
   ]
  },
  {
   "cell_type": "code",
   "execution_count": 21,
   "metadata": {
    "colab": {
     "base_uri": "https://localhost:8080/",
     "height": 90
    },
    "id": "bw_1wSzI4-ex",
    "outputId": "b41f64f5-6d86-4970-f8a7-c7ba99201288"
   },
   "outputs": [
    {
     "name": "stdout",
     "output_type": "stream",
     "text": [
      "train image shape: (60000, 784)\n",
      "number of dimensions: 2\n",
      "maximum value 1.0\n",
      "minimum value: 0.0\n"
     ]
    }
   ],
   "source": [
    "print('train image shape:', train_images.shape)\n",
    "print('number of dimensions:', train_images.ndim)\n",
    "print('maximum value', train_images.max())\n",
    "print('minimum value:', train_images.min())"
   ]
  },
  {
   "cell_type": "code",
   "execution_count": 22,
   "metadata": {
    "id": "44PHpAPRUVyV"
   },
   "outputs": [],
   "source": [
    "from tensorflow.keras.utils import to_categorical"
   ]
  },
  {
   "cell_type": "code",
   "execution_count": 23,
   "metadata": {
    "id": "zeczsZHUVDQx"
   },
   "outputs": [],
   "source": [
    "train_labels = to_categorical(train_labels)\n",
    "test_labels = to_categorical(test_labels)"
   ]
  },
  {
   "cell_type": "code",
   "execution_count": 24,
   "metadata": {
    "colab": {
     "base_uri": "https://localhost:8080/",
     "height": 219
    },
    "id": "w90ZrgWhVPC1",
    "outputId": "b423318e-656b-4353-f686-abcca13fbfd6"
   },
   "outputs": [
    {
     "name": "stdout",
     "output_type": "stream",
     "text": [
      "Epoch 1/5\n",
      "500/500 [==============================] - 1s 2ms/step - loss: 0.2629 - accuracy: 0.9254\n",
      "Epoch 2/5\n",
      "500/500 [==============================] - 1s 2ms/step - loss: 0.1075 - accuracy: 0.9685\n",
      "Epoch 3/5\n",
      "500/500 [==============================] - 1s 2ms/step - loss: 0.0692 - accuracy: 0.9797\n",
      "Epoch 4/5\n",
      "500/500 [==============================] - 1s 2ms/step - loss: 0.0495 - accuracy: 0.9856\n",
      "Epoch 5/5\n",
      "500/500 [==============================] - 1s 2ms/step - loss: 0.0359 - accuracy: 0.9895\n"
     ]
    },
    {
     "data": {
      "text/plain": [
       "<tensorflow.python.keras.callbacks.History at 0x7f32a86a4f60>"
      ]
     },
     "execution_count": 24,
     "metadata": {},
     "output_type": "execute_result"
    }
   ],
   "source": [
    "model.fit(train_images, train_labels, epochs = 5, batch_size = 120) \n",
    "# Batch size is how many images to process at once. Epoch is how many times to repeat the analysis.  Each epoch performs 500 gradient updates (60,000/120 = 500)"
   ]
  },
  {
   "cell_type": "code",
   "execution_count": 25,
   "metadata": {
    "colab": {
     "base_uri": "https://localhost:8080/",
     "height": 54
    },
    "id": "OHqqd_YYVdz3",
    "outputId": "177ef72e-0444-460e-fa68-466aaa8158bb"
   },
   "outputs": [
    {
     "name": "stdout",
     "output_type": "stream",
     "text": [
      "313/313 [==============================] - 0s 885us/step - loss: 0.0638 - accuracy: 0.9797\n",
      "test_acc: 0.9797000288963318\n"
     ]
    }
   ],
   "source": [
    "test_loss, test_acc = model.evaluate(test_images, test_labels)\n",
    "print('test_acc:', test_acc)"
   ]
  },
  {
   "cell_type": "markdown",
   "metadata": {
    "id": "sIRCQyZ2F24o"
   },
   "source": [
    "# Your Turn\n",
    "####  Build 3 different models with activations 'relu', 'tanh', and 'sigmoid'.  The last activation must be 'softmax' since we have a multiclass problem"
   ]
  },
  {
   "cell_type": "code",
   "execution_count": 26,
   "metadata": {
    "id": "KgHnMI6T4-f6"
   },
   "outputs": [],
   "source": [
    "relu_model = models.Sequential()\n",
    "relu_model.add(layers.Dense(512, activation='relu',input_shape=(28 * 28,)))\n",
    "relu_model.add(layers.Dense(10, activation='softmax'))\n",
    "\n",
    "tanh_model = models.Sequential()\n",
    "tanh_model.add(layers.Dense(512, activation='tanh',input_shape=(28 * 28,)))\n",
    "tanh_model.add(layers.Dense(10, activation='softmax'))\n",
    "\n",
    "\n",
    "sigmoid_model = models.Sequential()\n",
    "sigmoid_model.add(layers.Dense(512, activation='sigmoid',input_shape=(28 * 28,)))\n",
    "sigmoid_model.add(layers.Dense(10, activation='softmax'))"
   ]
  },
  {
   "cell_type": "markdown",
   "metadata": {
    "id": "BnUDSgXk4-gE"
   },
   "source": [
    "#### Compile your model.  Use categorical_crossentropyy since this problem is a multiclassification problem. Metrics will be 'accuracy' and optimizer will be 'adam'."
   ]
  },
  {
   "cell_type": "code",
   "execution_count": 27,
   "metadata": {
    "id": "FhHGydeC4-gH"
   },
   "outputs": [],
   "source": [
    "relu_model.compile(optimizer = 'adam',\n",
    "               loss = 'categorical_crossentropy',\n",
    "               metrics = ['accuracy'])\n",
    "\n",
    "tanh_model.compile(optimizer = 'adam',\n",
    "               loss = 'categorical_crossentropy',\n",
    "               metrics = ['accuracy'])\n",
    "\n",
    "sigmoid_model.compile(optimizer = 'adam',\n",
    "               loss = 'categorical_crossentropy',\n",
    "               metrics = ['accuracy'])"
   ]
  },
  {
   "cell_type": "markdown",
   "metadata": {
    "id": "X7uSP2vm4-gR"
   },
   "source": [
    "#### Fit the models with epochs = 5 and  batch_size = 150"
   ]
  },
  {
   "cell_type": "code",
   "execution_count": 28,
   "metadata": {
    "id": "Y9qFLRMA4-gT"
   },
   "outputs": [
    {
     "name": "stdout",
     "output_type": "stream",
     "text": [
      "Epoch 1/5\n",
      "400/400 [==============================] - 1s 2ms/step - loss: 0.2816 - accuracy: 0.9205\n",
      "Epoch 2/5\n",
      "400/400 [==============================] - 1s 2ms/step - loss: 0.1153 - accuracy: 0.9664\n",
      "Epoch 3/5\n",
      "400/400 [==============================] - 1s 2ms/step - loss: 0.0760 - accuracy: 0.9776\n",
      "Epoch 4/5\n",
      "400/400 [==============================] - 1s 2ms/step - loss: 0.0538 - accuracy: 0.9844\n",
      "Epoch 5/5\n",
      "400/400 [==============================] - 1s 2ms/step - loss: 0.0408 - accuracy: 0.9879\n",
      "Epoch 1/5\n",
      "400/400 [==============================] - 1s 2ms/step - loss: 0.3319 - accuracy: 0.9047\n",
      "Epoch 2/5\n",
      "400/400 [==============================] - 1s 2ms/step - loss: 0.1874 - accuracy: 0.9456\n",
      "Epoch 3/5\n",
      "400/400 [==============================] - 1s 2ms/step - loss: 0.1278 - accuracy: 0.9637\n",
      "Epoch 4/5\n",
      "400/400 [==============================] - 1s 2ms/step - loss: 0.0938 - accuracy: 0.9732\n",
      "Epoch 5/5\n",
      "400/400 [==============================] - 1s 2ms/step - loss: 0.0708 - accuracy: 0.9793\n",
      "Epoch 1/5\n",
      "400/400 [==============================] - 1s 2ms/step - loss: 0.4638 - accuracy: 0.8779\n",
      "Epoch 2/5\n",
      "400/400 [==============================] - 1s 2ms/step - loss: 0.2533 - accuracy: 0.9273\n",
      "Epoch 3/5\n",
      "400/400 [==============================] - 1s 2ms/step - loss: 0.2001 - accuracy: 0.9429\n",
      "Epoch 4/5\n",
      "400/400 [==============================] - 1s 2ms/step - loss: 0.1624 - accuracy: 0.9528\n",
      "Epoch 5/5\n",
      "400/400 [==============================] - 1s 2ms/step - loss: 0.1343 - accuracy: 0.9612\n"
     ]
    },
    {
     "data": {
      "text/plain": [
       "<tensorflow.python.keras.callbacks.History at 0x7f32a435d7f0>"
      ]
     },
     "execution_count": 28,
     "metadata": {},
     "output_type": "execute_result"
    }
   ],
   "source": [
    "relu_model.fit(train_images, train_labels, epochs = 5, batch_size = 150) \n",
    "tanh_model.fit(train_images, train_labels, epochs = 5, batch_size = 150) \n",
    "sigmoid_model.fit(train_images, train_labels, epochs = 5, batch_size = 150) "
   ]
  },
  {
   "cell_type": "markdown",
   "metadata": {
    "id": "WB4RPCz54-gb"
   },
   "source": [
    "#### Test the accuracy of the model on the test images and test labels."
   ]
  },
  {
   "cell_type": "code",
   "execution_count": 29,
   "metadata": {
    "id": "W7V6DjwV4-gc"
   },
   "outputs": [
    {
     "name": "stdout",
     "output_type": "stream",
     "text": [
      "313/313 [==============================] - 0s 880us/step - loss: 0.0692 - accuracy: 0.9782\n",
      "relu_test_acc: 0.9782000184059143\n",
      "313/313 [==============================] - 0s 919us/step - loss: 0.0914 - accuracy: 0.9730\n",
      "tanh_test_acc: 0.9729999899864197\n",
      "313/313 [==============================] - 0s 913us/step - loss: 0.1319 - accuracy: 0.9602\n",
      "sigmoid_model_test_acc: 0.9602000117301941\n"
     ]
    }
   ],
   "source": [
    "test_loss, test_acc = relu_model.evaluate(test_images, test_labels)\n",
    "print('relu_test_acc:', test_acc)\n",
    "\n",
    "test_loss, test_acc = tanh_model.evaluate(test_images, test_labels)\n",
    "print('tanh_test_acc:', test_acc)\n",
    "\n",
    "test_loss, test_acc = sigmoid_model.evaluate(test_images, test_labels)\n",
    "print('sigmoid_model_test_acc:', test_acc)"
   ]
  },
  {
   "cell_type": "markdown",
   "metadata": {
    "id": "DbR0ds5G4-gm"
   },
   "source": [
    "#### which activation gave the highest accuracy?\n",
    "\n",
    "The RELU activation gave the highest accuracy of 0.9782\n",
    "\n",
    "### Using the acitvation that gave the highest accuracy build 3 different models with 3 hidden layers and varying units in each hidden layer.  The first and output layers are given to you.  Use the same 'relu' activation fuction on the input and hidden layers throughout so you can compare how adding nodes and hidden layers effect your model performance with the same activation function.\n",
    "### By convention hidden layers are built in orders of 2^x.  For example: 2, 4, 16, 32, 64, 128, 256, 512, 1024, 2048, 4096, etc. Built three models where the nodes (units) grow, stay consistant, and decrease."
   ]
  },
  {
   "cell_type": "code",
   "execution_count": 30,
   "metadata": {
    "id": "BTh369rD4-gr"
   },
   "outputs": [],
   "source": [
    "# First model have the nodes increase from 2\n",
    "h1_model = models.Sequential()\n",
    "h1_model.add(layers.Dense(2, activation='relu',input_shape=(28 * 28,)))\n",
    "h1_model.add(layers.Dense(32, activation='relu',input_shape=(28 * 28,)))\n",
    "h1_model.add(layers.Dense(256, activation='relu',input_shape=(28 * 28,)))\n",
    "h1_model.add(layers.Dense(2048, activation='relu',input_shape=(28 * 28,)))\n",
    "h1_model.add(layers.Dense(10, activation='softmax'))\n",
    "\n",
    "# Second model have the nodes stay consistant at 512\n",
    "h2_model = models.Sequential()\n",
    "h2_model.add(layers.Dense(512, activation='relu',input_shape=(28 * 28,)))\n",
    "h2_model.add(layers.Dense(512, activation='relu',input_shape=(28 * 28,)))\n",
    "h2_model.add(layers.Dense(512, activation='relu',input_shape=(28 * 28,)))\n",
    "h2_model.add(layers.Dense(512, activation='relu',input_shape=(28 * 28,)))\n",
    "h2_model.add(layers.Dense(10, activation='softmax'))\n",
    "\n",
    "# Third model, have the nodes decrease from 2048\n",
    "h3_model = models.Sequential()\n",
    "h3_model.add(layers.Dense(2048, activation='relu',input_shape=(28 * 28,)))\n",
    "h3_model.add(layers.Dense(256, activation='relu',input_shape=(28 * 28,)))\n",
    "h3_model.add(layers.Dense(32, activation='relu',input_shape=(28 * 28,)))\n",
    "h3_model.add(layers.Dense(2, activation='relu',input_shape=(28 * 28,)))\n",
    "h3_model.add(layers.Dense(10, activation='softmax'))"
   ]
  },
  {
   "cell_type": "markdown",
   "metadata": {
    "id": "EY-vLrzS4-g1"
   },
   "source": [
    "#### Complie the three models"
   ]
  },
  {
   "cell_type": "code",
   "execution_count": 31,
   "metadata": {
    "id": "AvYLN-Ld4-g3"
   },
   "outputs": [],
   "source": [
    "h1_model.compile(optimizer = 'adam',\n",
    "               loss = 'categorical_crossentropy',\n",
    "               metrics = ['accuracy'])\n",
    "\n",
    "h2_model.compile(optimizer = 'adam',\n",
    "               loss = 'categorical_crossentropy',\n",
    "               metrics = ['accuracy'])\n",
    "\n",
    "h3_model.compile(optimizer = 'adam',\n",
    "               loss = 'categorical_crossentropy',\n",
    "               metrics = ['accuracy'])"
   ]
  },
  {
   "cell_type": "markdown",
   "metadata": {
    "id": "jRMZ56yI4-hF"
   },
   "source": [
    "#### Fit the models with epochs = 5 and  batch_size = 150"
   ]
  },
  {
   "cell_type": "code",
   "execution_count": 32,
   "metadata": {
    "id": "wO_mcJ9x4-hI"
   },
   "outputs": [
    {
     "name": "stdout",
     "output_type": "stream",
     "text": [
      "Epoch 1/5\n",
      "400/400 [==============================] - 1s 4ms/step - loss: 1.2272 - accuracy: 0.5365\n",
      "Epoch 2/5\n",
      "400/400 [==============================] - 1s 3ms/step - loss: 0.9590 - accuracy: 0.6636\n",
      "Epoch 3/5\n",
      "400/400 [==============================] - 1s 3ms/step - loss: 0.9003 - accuracy: 0.6875\n",
      "Epoch 4/5\n",
      "400/400 [==============================] - 1s 3ms/step - loss: 0.8688 - accuracy: 0.7035\n",
      "Epoch 5/5\n",
      "400/400 [==============================] - 1s 3ms/step - loss: 0.8438 - accuracy: 0.7141\n",
      "Epoch 1/5\n",
      "400/400 [==============================] - 2s 5ms/step - loss: 0.2252 - accuracy: 0.9312\n",
      "Epoch 2/5\n",
      "400/400 [==============================] - 2s 5ms/step - loss: 0.0899 - accuracy: 0.9722\n",
      "Epoch 3/5\n",
      "400/400 [==============================] - 2s 5ms/step - loss: 0.0600 - accuracy: 0.9813\n",
      "Epoch 4/5\n",
      "400/400 [==============================] - 2s 5ms/step - loss: 0.0448 - accuracy: 0.9857\n",
      "Epoch 5/5\n",
      "400/400 [==============================] - 2s 5ms/step - loss: 0.0393 - accuracy: 0.9877\n",
      "Epoch 1/5\n",
      "400/400 [==============================] - 2s 5ms/step - loss: 1.9242 - accuracy: 0.2040\n",
      "Epoch 2/5\n",
      "400/400 [==============================] - 2s 5ms/step - loss: 1.7941 - accuracy: 0.2213\n",
      "Epoch 3/5\n",
      "400/400 [==============================] - 2s 5ms/step - loss: 1.7348 - accuracy: 0.2846\n",
      "Epoch 4/5\n",
      "400/400 [==============================] - 2s 5ms/step - loss: 1.7036 - accuracy: 0.3020\n",
      "Epoch 5/5\n",
      "400/400 [==============================] - 2s 5ms/step - loss: 1.6730 - accuracy: 0.3129\n"
     ]
    },
    {
     "data": {
      "text/plain": [
       "<tensorflow.python.keras.callbacks.History at 0x7f32a4077828>"
      ]
     },
     "execution_count": 32,
     "metadata": {},
     "output_type": "execute_result"
    }
   ],
   "source": [
    "h1_model.fit(train_images, train_labels, epochs = 5, batch_size = 150) \n",
    "h2_model.fit(train_images, train_labels, epochs = 5, batch_size = 150) \n",
    "h3_model.fit(train_images, train_labels, epochs = 5, batch_size = 150) "
   ]
  },
  {
   "cell_type": "markdown",
   "metadata": {
    "id": "x0Kcmj6x4-hU"
   },
   "source": [
    "#### Test the accuracy of the 3 models"
   ]
  },
  {
   "cell_type": "code",
   "execution_count": 33,
   "metadata": {
    "id": "uRUw9R5F4-ha"
   },
   "outputs": [
    {
     "name": "stdout",
     "output_type": "stream",
     "text": [
      "313/313 [==============================] - 0s 1ms/step - loss: 0.8241 - accuracy: 0.7285\n",
      "h1_model_test_acc: 0.7285000085830688\n",
      "313/313 [==============================] - 0s 1ms/step - loss: 0.0949 - accuracy: 0.9727\n",
      "h2_model_test_acc: 0.9726999998092651\n",
      "313/313 [==============================] - 0s 1ms/step - loss: 1.7265 - accuracy: 0.2817\n",
      "h3_model_model_model_test_acc: 0.2816999852657318\n"
     ]
    }
   ],
   "source": [
    "test_loss, test_acc = h1_model.evaluate(test_images, test_labels)\n",
    "print('h1_model_test_acc:', test_acc)\n",
    "\n",
    "test_loss, test_acc = h2_model.evaluate(test_images, test_labels)\n",
    "print('h2_model_test_acc:', test_acc)\n",
    "\n",
    "test_loss, test_acc = h3_model.evaluate(test_images, test_labels)\n",
    "print('h3_model_model_model_test_acc:', test_acc)"
   ]
  },
  {
   "cell_type": "markdown",
   "metadata": {
    "id": "2-fHqdpQ4-hm"
   },
   "source": [
    "#### Which model gave the highest accuracy?\n",
    "\n",
    "The Second model which had the nodes stay consistent at 512 gave the greatest accuracy of 0.9727"
   ]
  },
  {
   "cell_type": "code",
   "execution_count": null,
   "metadata": {},
   "outputs": [],
   "source": []
  }
 ],
 "metadata": {
  "accelerator": "TPU",
  "colab": {
   "collapsed_sections": [
    "2-fHqdpQ4-hm"
   ],
   "name": "Deep_Learning_'Hello_MNIST'.ipynb",
   "provenance": []
  },
  "kernelspec": {
   "display_name": "Python 3",
   "language": "python",
   "name": "python3"
  },
  "language_info": {
   "codemirror_mode": {
    "name": "ipython",
    "version": 3
   },
   "file_extension": ".py",
   "mimetype": "text/x-python",
   "name": "python",
   "nbconvert_exporter": "python",
   "pygments_lexer": "ipython3",
   "version": "3.6.10"
  }
 },
 "nbformat": 4,
 "nbformat_minor": 1
}
