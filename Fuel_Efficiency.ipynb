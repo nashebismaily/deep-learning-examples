{
  "nbformat": 4,
  "nbformat_minor": 0,
  "metadata": {
    "colab": {
      "name": "Fuel_Efficiency_Assignment.ipynb",
      "provenance": [],
      "collapsed_sections": []
    },
    "kernelspec": {
      "display_name": "Python 3",
      "language": "python",
      "name": "python3"
    },
    "language_info": {
      "codemirror_mode": {
        "name": "ipython",
        "version": 3
      },
      "file_extension": ".py",
      "mimetype": "text/x-python",
      "name": "python",
      "nbconvert_exporter": "python",
      "pygments_lexer": "ipython3",
      "version": "3.6.8"
    }
  },
  "cells": [
    {
      "cell_type": "markdown",
      "metadata": {
        "id": "KVqVcVDo9aUi"
      },
      "source": [
        "# Fuel Efficiency Assingment\n",
        "## Adapted from TensorFlow Tutorials\n",
        "#### Using the Boston Housing jupyter notebook as an example follow the prompts below to build a neural network to predict vehicle fuel efficiency"
      ]
    },
    {
      "cell_type": "code",
      "metadata": {
        "id": "uuLZ2hhn9aUs",
        "outputId": "788df12a-14f5-47a6-ebba-b4bed6e4d175",
        "colab": {
          "base_uri": "https://localhost:8080/",
          "height": 17
        }
      },
      "source": [
        "from IPython.core.display import display, HTML\n",
        "display(HTML(\"<style>.container { width:95% !important; }</style>\"))"
      ],
      "execution_count": 1,
      "outputs": [
        {
          "output_type": "display_data",
          "data": {
            "text/html": [
              "<style>.container { width:95% !important; }</style>"
            ],
            "text/plain": [
              "<IPython.core.display.HTML object>"
            ]
          },
          "metadata": {
            "tags": []
          }
        }
      ]
    },
    {
      "cell_type": "code",
      "metadata": {
        "id": "gB-uz88U9aVH"
      },
      "source": [
        "# Import the necessary libraries\n",
        "import matplotlib.pyplot as plt\n",
        "import pandas as pd\n",
        "import tensorflow as tf\n",
        "from tensorflow import keras\n",
        "from sklearn.model_selection import train_test_split\n",
        "from tensorflow.keras import models\n",
        "from tensorflow.keras import layers\n",
        "from tensorflow.keras import backend\n",
        "tf.random.set_seed(1234)"
      ],
      "execution_count": 2,
      "outputs": []
    },
    {
      "cell_type": "code",
      "metadata": {
        "id": "xHSh7Wz79iiN"
      },
      "source": [
        "# Download the dataset\n",
        "dataset_path = keras.utils.get_file(\"auto-mpg.data\", \"http://archive.ics.uci.edu/ml/machine-learning-databases/auto-mpg/auto-mpg.data\")"
      ],
      "execution_count": 3,
      "outputs": []
    },
    {
      "cell_type": "code",
      "metadata": {
        "id": "joNdceRk9aVX",
        "outputId": "5acafa2d-9164-48f0-f9fd-78dff32a19b9",
        "colab": {
          "base_uri": "https://localhost:8080/",
          "height": 204
        }
      },
      "source": [
        "# Add labels to columns and view dataset\n",
        "column_names = ['MPG','Cylinders','Displacement','Horsepower','Weight',\n",
        "                'Acceleration', 'Model Year', 'Origin']\n",
        "raw_dataset = pd.read_csv(dataset_path, names=column_names,\n",
        "                      na_values = \"?\", comment='\\t',\n",
        "                      sep=\" \", skipinitialspace=True)\n",
        "\n",
        "dataset = raw_dataset.copy()\n",
        "dataset.tail()"
      ],
      "execution_count": 4,
      "outputs": [
        {
          "output_type": "execute_result",
          "data": {
            "text/html": [
              "<div>\n",
              "<style scoped>\n",
              "    .dataframe tbody tr th:only-of-type {\n",
              "        vertical-align: middle;\n",
              "    }\n",
              "\n",
              "    .dataframe tbody tr th {\n",
              "        vertical-align: top;\n",
              "    }\n",
              "\n",
              "    .dataframe thead th {\n",
              "        text-align: right;\n",
              "    }\n",
              "</style>\n",
              "<table border=\"1\" class=\"dataframe\">\n",
              "  <thead>\n",
              "    <tr style=\"text-align: right;\">\n",
              "      <th></th>\n",
              "      <th>MPG</th>\n",
              "      <th>Cylinders</th>\n",
              "      <th>Displacement</th>\n",
              "      <th>Horsepower</th>\n",
              "      <th>Weight</th>\n",
              "      <th>Acceleration</th>\n",
              "      <th>Model Year</th>\n",
              "      <th>Origin</th>\n",
              "    </tr>\n",
              "  </thead>\n",
              "  <tbody>\n",
              "    <tr>\n",
              "      <th>393</th>\n",
              "      <td>27.0</td>\n",
              "      <td>4</td>\n",
              "      <td>140.0</td>\n",
              "      <td>86.0</td>\n",
              "      <td>2790.0</td>\n",
              "      <td>15.6</td>\n",
              "      <td>82</td>\n",
              "      <td>1</td>\n",
              "    </tr>\n",
              "    <tr>\n",
              "      <th>394</th>\n",
              "      <td>44.0</td>\n",
              "      <td>4</td>\n",
              "      <td>97.0</td>\n",
              "      <td>52.0</td>\n",
              "      <td>2130.0</td>\n",
              "      <td>24.6</td>\n",
              "      <td>82</td>\n",
              "      <td>2</td>\n",
              "    </tr>\n",
              "    <tr>\n",
              "      <th>395</th>\n",
              "      <td>32.0</td>\n",
              "      <td>4</td>\n",
              "      <td>135.0</td>\n",
              "      <td>84.0</td>\n",
              "      <td>2295.0</td>\n",
              "      <td>11.6</td>\n",
              "      <td>82</td>\n",
              "      <td>1</td>\n",
              "    </tr>\n",
              "    <tr>\n",
              "      <th>396</th>\n",
              "      <td>28.0</td>\n",
              "      <td>4</td>\n",
              "      <td>120.0</td>\n",
              "      <td>79.0</td>\n",
              "      <td>2625.0</td>\n",
              "      <td>18.6</td>\n",
              "      <td>82</td>\n",
              "      <td>1</td>\n",
              "    </tr>\n",
              "    <tr>\n",
              "      <th>397</th>\n",
              "      <td>31.0</td>\n",
              "      <td>4</td>\n",
              "      <td>119.0</td>\n",
              "      <td>82.0</td>\n",
              "      <td>2720.0</td>\n",
              "      <td>19.4</td>\n",
              "      <td>82</td>\n",
              "      <td>1</td>\n",
              "    </tr>\n",
              "  </tbody>\n",
              "</table>\n",
              "</div>"
            ],
            "text/plain": [
              "      MPG  Cylinders  Displacement  ...  Acceleration  Model Year  Origin\n",
              "393  27.0          4         140.0  ...          15.6          82       1\n",
              "394  44.0          4          97.0  ...          24.6          82       2\n",
              "395  32.0          4         135.0  ...          11.6          82       1\n",
              "396  28.0          4         120.0  ...          18.6          82       1\n",
              "397  31.0          4         119.0  ...          19.4          82       1\n",
              "\n",
              "[5 rows x 8 columns]"
            ]
          },
          "metadata": {
            "tags": []
          },
          "execution_count": 4
        }
      ]
    },
    {
      "cell_type": "code",
      "metadata": {
        "id": "g_McGq3q_MPS",
        "outputId": "b7b80768-2414-4ea3-ed93-3062aafb04d6",
        "colab": {
          "base_uri": "https://localhost:8080/",
          "height": 204
        }
      },
      "source": [
        "# Vehicle orgin needs to be encoded to factors.  \n",
        "origin = dataset.pop('Origin')\n",
        "dataset['USA'] = (origin == 1)*1.0\n",
        "dataset['Europe'] = (origin == 2)*1.0\n",
        "dataset['Japan'] = (origin == 3)*1.0\n",
        "dataset.tail()"
      ],
      "execution_count": 5,
      "outputs": [
        {
          "output_type": "execute_result",
          "data": {
            "text/html": [
              "<div>\n",
              "<style scoped>\n",
              "    .dataframe tbody tr th:only-of-type {\n",
              "        vertical-align: middle;\n",
              "    }\n",
              "\n",
              "    .dataframe tbody tr th {\n",
              "        vertical-align: top;\n",
              "    }\n",
              "\n",
              "    .dataframe thead th {\n",
              "        text-align: right;\n",
              "    }\n",
              "</style>\n",
              "<table border=\"1\" class=\"dataframe\">\n",
              "  <thead>\n",
              "    <tr style=\"text-align: right;\">\n",
              "      <th></th>\n",
              "      <th>MPG</th>\n",
              "      <th>Cylinders</th>\n",
              "      <th>Displacement</th>\n",
              "      <th>Horsepower</th>\n",
              "      <th>Weight</th>\n",
              "      <th>Acceleration</th>\n",
              "      <th>Model Year</th>\n",
              "      <th>USA</th>\n",
              "      <th>Europe</th>\n",
              "      <th>Japan</th>\n",
              "    </tr>\n",
              "  </thead>\n",
              "  <tbody>\n",
              "    <tr>\n",
              "      <th>393</th>\n",
              "      <td>27.0</td>\n",
              "      <td>4</td>\n",
              "      <td>140.0</td>\n",
              "      <td>86.0</td>\n",
              "      <td>2790.0</td>\n",
              "      <td>15.6</td>\n",
              "      <td>82</td>\n",
              "      <td>1.0</td>\n",
              "      <td>0.0</td>\n",
              "      <td>0.0</td>\n",
              "    </tr>\n",
              "    <tr>\n",
              "      <th>394</th>\n",
              "      <td>44.0</td>\n",
              "      <td>4</td>\n",
              "      <td>97.0</td>\n",
              "      <td>52.0</td>\n",
              "      <td>2130.0</td>\n",
              "      <td>24.6</td>\n",
              "      <td>82</td>\n",
              "      <td>0.0</td>\n",
              "      <td>1.0</td>\n",
              "      <td>0.0</td>\n",
              "    </tr>\n",
              "    <tr>\n",
              "      <th>395</th>\n",
              "      <td>32.0</td>\n",
              "      <td>4</td>\n",
              "      <td>135.0</td>\n",
              "      <td>84.0</td>\n",
              "      <td>2295.0</td>\n",
              "      <td>11.6</td>\n",
              "      <td>82</td>\n",
              "      <td>1.0</td>\n",
              "      <td>0.0</td>\n",
              "      <td>0.0</td>\n",
              "    </tr>\n",
              "    <tr>\n",
              "      <th>396</th>\n",
              "      <td>28.0</td>\n",
              "      <td>4</td>\n",
              "      <td>120.0</td>\n",
              "      <td>79.0</td>\n",
              "      <td>2625.0</td>\n",
              "      <td>18.6</td>\n",
              "      <td>82</td>\n",
              "      <td>1.0</td>\n",
              "      <td>0.0</td>\n",
              "      <td>0.0</td>\n",
              "    </tr>\n",
              "    <tr>\n",
              "      <th>397</th>\n",
              "      <td>31.0</td>\n",
              "      <td>4</td>\n",
              "      <td>119.0</td>\n",
              "      <td>82.0</td>\n",
              "      <td>2720.0</td>\n",
              "      <td>19.4</td>\n",
              "      <td>82</td>\n",
              "      <td>1.0</td>\n",
              "      <td>0.0</td>\n",
              "      <td>0.0</td>\n",
              "    </tr>\n",
              "  </tbody>\n",
              "</table>\n",
              "</div>"
            ],
            "text/plain": [
              "      MPG  Cylinders  Displacement  Horsepower  ...  Model Year  USA  Europe  Japan\n",
              "393  27.0          4         140.0        86.0  ...          82  1.0     0.0    0.0\n",
              "394  44.0          4          97.0        52.0  ...          82  0.0     1.0    0.0\n",
              "395  32.0          4         135.0        84.0  ...          82  1.0     0.0    0.0\n",
              "396  28.0          4         120.0        79.0  ...          82  1.0     0.0    0.0\n",
              "397  31.0          4         119.0        82.0  ...          82  1.0     0.0    0.0\n",
              "\n",
              "[5 rows x 10 columns]"
            ]
          },
          "metadata": {
            "tags": []
          },
          "execution_count": 5
        }
      ]
    },
    {
      "cell_type": "code",
      "metadata": {
        "id": "cQWXC9pi_DHE",
        "outputId": "ab456eb8-a4fe-4484-ae75-e42a44574967",
        "colab": {
          "base_uri": "https://localhost:8080/",
          "height": 204
        }
      },
      "source": [
        "# Check for missing data\n",
        "dataset.isna().sum()"
      ],
      "execution_count": 6,
      "outputs": [
        {
          "output_type": "execute_result",
          "data": {
            "text/plain": [
              "MPG             0\n",
              "Cylinders       0\n",
              "Displacement    0\n",
              "Horsepower      6\n",
              "Weight          0\n",
              "Acceleration    0\n",
              "Model Year      0\n",
              "USA             0\n",
              "Europe          0\n",
              "Japan           0\n",
              "dtype: int64"
            ]
          },
          "metadata": {
            "tags": []
          },
          "execution_count": 6
        }
      ]
    },
    {
      "cell_type": "code",
      "metadata": {
        "id": "ty6pqsxCpRZe"
      },
      "source": [
        "# Remove missing data\n",
        "dataset = dataset.dropna()"
      ],
      "execution_count": 7,
      "outputs": []
    },
    {
      "cell_type": "code",
      "metadata": {
        "id": "eE_5qHySpR-4",
        "outputId": "86d1a021-135d-4435-ecbb-a6c7d8c30503",
        "colab": {
          "base_uri": "https://localhost:8080/",
          "height": 204
        }
      },
      "source": [
        "# Validate missing data removal\n",
        "dataset.isna().sum()"
      ],
      "execution_count": 8,
      "outputs": [
        {
          "output_type": "execute_result",
          "data": {
            "text/plain": [
              "MPG             0\n",
              "Cylinders       0\n",
              "Displacement    0\n",
              "Horsepower      0\n",
              "Weight          0\n",
              "Acceleration    0\n",
              "Model Year      0\n",
              "USA             0\n",
              "Europe          0\n",
              "Japan           0\n",
              "dtype: int64"
            ]
          },
          "metadata": {
            "tags": []
          },
          "execution_count": 8
        }
      ]
    },
    {
      "cell_type": "code",
      "metadata": {
        "id": "sKLtoKX2OTvJ"
      },
      "source": [
        "# Split dataset into y tragets and remove the targets from the dataset.  We are predicting MPG (fuel efficiencey) so the targets are MPG\n",
        "dataset_labels = dataset.pop('MPG')\n"
      ],
      "execution_count": 9,
      "outputs": []
    },
    {
      "cell_type": "code",
      "metadata": {
        "id": "k7L7tctbqrU3",
        "outputId": "9dcc8a9a-32d6-4021-9df0-9060567a42bf",
        "colab": {
          "base_uri": "https://localhost:8080/",
          "height": 204
        }
      },
      "source": [
        "# View the dataset\n",
        "dataset.tail()"
      ],
      "execution_count": 10,
      "outputs": [
        {
          "output_type": "execute_result",
          "data": {
            "text/html": [
              "<div>\n",
              "<style scoped>\n",
              "    .dataframe tbody tr th:only-of-type {\n",
              "        vertical-align: middle;\n",
              "    }\n",
              "\n",
              "    .dataframe tbody tr th {\n",
              "        vertical-align: top;\n",
              "    }\n",
              "\n",
              "    .dataframe thead th {\n",
              "        text-align: right;\n",
              "    }\n",
              "</style>\n",
              "<table border=\"1\" class=\"dataframe\">\n",
              "  <thead>\n",
              "    <tr style=\"text-align: right;\">\n",
              "      <th></th>\n",
              "      <th>Cylinders</th>\n",
              "      <th>Displacement</th>\n",
              "      <th>Horsepower</th>\n",
              "      <th>Weight</th>\n",
              "      <th>Acceleration</th>\n",
              "      <th>Model Year</th>\n",
              "      <th>USA</th>\n",
              "      <th>Europe</th>\n",
              "      <th>Japan</th>\n",
              "    </tr>\n",
              "  </thead>\n",
              "  <tbody>\n",
              "    <tr>\n",
              "      <th>393</th>\n",
              "      <td>4</td>\n",
              "      <td>140.0</td>\n",
              "      <td>86.0</td>\n",
              "      <td>2790.0</td>\n",
              "      <td>15.6</td>\n",
              "      <td>82</td>\n",
              "      <td>1.0</td>\n",
              "      <td>0.0</td>\n",
              "      <td>0.0</td>\n",
              "    </tr>\n",
              "    <tr>\n",
              "      <th>394</th>\n",
              "      <td>4</td>\n",
              "      <td>97.0</td>\n",
              "      <td>52.0</td>\n",
              "      <td>2130.0</td>\n",
              "      <td>24.6</td>\n",
              "      <td>82</td>\n",
              "      <td>0.0</td>\n",
              "      <td>1.0</td>\n",
              "      <td>0.0</td>\n",
              "    </tr>\n",
              "    <tr>\n",
              "      <th>395</th>\n",
              "      <td>4</td>\n",
              "      <td>135.0</td>\n",
              "      <td>84.0</td>\n",
              "      <td>2295.0</td>\n",
              "      <td>11.6</td>\n",
              "      <td>82</td>\n",
              "      <td>1.0</td>\n",
              "      <td>0.0</td>\n",
              "      <td>0.0</td>\n",
              "    </tr>\n",
              "    <tr>\n",
              "      <th>396</th>\n",
              "      <td>4</td>\n",
              "      <td>120.0</td>\n",
              "      <td>79.0</td>\n",
              "      <td>2625.0</td>\n",
              "      <td>18.6</td>\n",
              "      <td>82</td>\n",
              "      <td>1.0</td>\n",
              "      <td>0.0</td>\n",
              "      <td>0.0</td>\n",
              "    </tr>\n",
              "    <tr>\n",
              "      <th>397</th>\n",
              "      <td>4</td>\n",
              "      <td>119.0</td>\n",
              "      <td>82.0</td>\n",
              "      <td>2720.0</td>\n",
              "      <td>19.4</td>\n",
              "      <td>82</td>\n",
              "      <td>1.0</td>\n",
              "      <td>0.0</td>\n",
              "      <td>0.0</td>\n",
              "    </tr>\n",
              "  </tbody>\n",
              "</table>\n",
              "</div>"
            ],
            "text/plain": [
              "     Cylinders  Displacement  Horsepower  ...  USA  Europe  Japan\n",
              "393          4         140.0        86.0  ...  1.0     0.0    0.0\n",
              "394          4          97.0        52.0  ...  0.0     1.0    0.0\n",
              "395          4         135.0        84.0  ...  1.0     0.0    0.0\n",
              "396          4         120.0        79.0  ...  1.0     0.0    0.0\n",
              "397          4         119.0        82.0  ...  1.0     0.0    0.0\n",
              "\n",
              "[5 rows x 9 columns]"
            ]
          },
          "metadata": {
            "tags": []
          },
          "execution_count": 10
        }
      ]
    },
    {
      "cell_type": "code",
      "metadata": {
        "id": "h-lq65NmwQ0Y",
        "outputId": "39832724-65ea-4c20-f82b-68a51292e368",
        "colab": {
          "base_uri": "https://localhost:8080/",
          "height": 119
        }
      },
      "source": [
        "# View the labels\n",
        "dataset_labels.tail()"
      ],
      "execution_count": 11,
      "outputs": [
        {
          "output_type": "execute_result",
          "data": {
            "text/plain": [
              "393    27.0\n",
              "394    44.0\n",
              "395    32.0\n",
              "396    28.0\n",
              "397    31.0\n",
              "Name: MPG, dtype: float64"
            ]
          },
          "metadata": {
            "tags": []
          },
          "execution_count": 11
        }
      ]
    },
    {
      "cell_type": "code",
      "metadata": {
        "id": "EADoX6GgN22P"
      },
      "source": [
        "# Spit the dataset into x_train, x_test, y_train, y_test.  \n",
        "x_train, x_test, y_train, y_test = train_test_split(dataset, dataset_labels, test_size=0.2, shuffle= True)\n"
      ],
      "execution_count": 12,
      "outputs": []
    },
    {
      "cell_type": "code",
      "metadata": {
        "id": "CjA6TfPRwoaL",
        "outputId": "6d8029c8-cf51-428e-b4c4-609faaa90443",
        "colab": {
          "base_uri": "https://localhost:8080/",
          "height": 425
        }
      },
      "source": [
        "description_train = x_train.describe().transpose()\n",
        "description_test= x_test.describe().transpose()\n",
        "print(description_train)\n",
        "print(description_test)"
      ],
      "execution_count": 13,
      "outputs": [
        {
          "output_type": "stream",
          "text": [
            "              count         mean         std  ...     50%     75%     max\n",
            "Cylinders     313.0     5.466454    1.692648  ...     4.0     8.0     8.0\n",
            "Displacement  313.0   193.132588  102.926407  ...   151.0   260.0   455.0\n",
            "Horsepower    313.0   104.089457   37.985637  ...    94.0   122.0   230.0\n",
            "Weight        313.0  2987.856230  855.129272  ...  2855.0  3632.0  5140.0\n",
            "Acceleration  313.0    15.610543    2.759782  ...    15.5    17.1    24.8\n",
            "Model Year    313.0    75.952077    3.654239  ...    76.0    79.0    82.0\n",
            "USA           313.0     0.610224    0.488480  ...     1.0     1.0     1.0\n",
            "Europe        313.0     0.188498    0.391736  ...     0.0     0.0     1.0\n",
            "Japan         313.0     0.201278    0.401597  ...     0.0     0.0     1.0\n",
            "\n",
            "[9 rows x 8 columns]\n",
            "              count         mean         std  ...     50%     75%     max\n",
            "Cylinders      79.0     5.493671    1.767755  ...     4.0     8.0     8.0\n",
            "Displacement   79.0   199.481013  111.732953  ...   140.0   307.0   455.0\n",
            "Horsepower     79.0   105.974684   40.648895  ...    91.0   138.5   225.0\n",
            "Weight         79.0  2936.886076  830.414401  ...  2725.0  3541.5  4997.0\n",
            "Acceleration   79.0    15.267089    2.755587  ...    15.5    17.0    22.1\n",
            "Model Year     79.0    76.088608    3.820290  ...    76.0    79.0    82.0\n",
            "USA            79.0     0.683544    0.468065  ...     1.0     1.0     1.0\n",
            "Europe         79.0     0.113924    0.319749  ...     0.0     0.0     1.0\n",
            "Japan          79.0     0.202532    0.404454  ...     0.0     0.0     1.0\n",
            "\n",
            "[9 rows x 8 columns]\n"
          ],
          "name": "stdout"
        }
      ]
    },
    {
      "cell_type": "code",
      "metadata": {
        "id": "zwsKJwj_PNZa"
      },
      "source": [
        "# Normalize the data by subratcing the mean from each feature and divid by one standard deviation\n",
        "mean = x_train.mean(axis = 0)\n",
        "x_train -= mean\n",
        "\n",
        "std = x_train.std(axis = 0)\n",
        "x_train /= std\n",
        "\n",
        "x_test -= mean\n",
        "x_test /= std"
      ],
      "execution_count": 14,
      "outputs": []
    },
    {
      "cell_type": "code",
      "metadata": {
        "id": "oskPkkyxsLR1",
        "outputId": "6aa20a7f-eded-4b4e-ca47-2c15ecf66f4e",
        "colab": {
          "base_uri": "https://localhost:8080/",
          "height": 204
        }
      },
      "source": [
        "# View training data\n",
        "x_train.tail()"
      ],
      "execution_count": 15,
      "outputs": [
        {
          "output_type": "execute_result",
          "data": {
            "text/html": [
              "<div>\n",
              "<style scoped>\n",
              "    .dataframe tbody tr th:only-of-type {\n",
              "        vertical-align: middle;\n",
              "    }\n",
              "\n",
              "    .dataframe tbody tr th {\n",
              "        vertical-align: top;\n",
              "    }\n",
              "\n",
              "    .dataframe thead th {\n",
              "        text-align: right;\n",
              "    }\n",
              "</style>\n",
              "<table border=\"1\" class=\"dataframe\">\n",
              "  <thead>\n",
              "    <tr style=\"text-align: right;\">\n",
              "      <th></th>\n",
              "      <th>Cylinders</th>\n",
              "      <th>Displacement</th>\n",
              "      <th>Horsepower</th>\n",
              "      <th>Weight</th>\n",
              "      <th>Acceleration</th>\n",
              "      <th>Model Year</th>\n",
              "      <th>USA</th>\n",
              "      <th>Europe</th>\n",
              "      <th>Japan</th>\n",
              "    </tr>\n",
              "  </thead>\n",
              "  <tbody>\n",
              "    <tr>\n",
              "      <th>183</th>\n",
              "      <td>-0.866367</td>\n",
              "      <td>-0.749396</td>\n",
              "      <td>-0.607847</td>\n",
              "      <td>-0.897942</td>\n",
              "      <td>0.467231</td>\n",
              "      <td>0.013114</td>\n",
              "      <td>-1.249229</td>\n",
              "      <td>2.071553</td>\n",
              "      <td>-0.501193</td>\n",
              "    </tr>\n",
              "    <tr>\n",
              "      <th>130</th>\n",
              "      <td>-0.866367</td>\n",
              "      <td>-0.691101</td>\n",
              "      <td>-0.634173</td>\n",
              "      <td>-0.627807</td>\n",
              "      <td>0.322292</td>\n",
              "      <td>-0.534195</td>\n",
              "      <td>0.797937</td>\n",
              "      <td>-0.481187</td>\n",
              "      <td>-0.501193</td>\n",
              "    </tr>\n",
              "    <tr>\n",
              "      <th>116</th>\n",
              "      <td>1.496795</td>\n",
              "      <td>2.009858</td>\n",
              "      <td>3.314688</td>\n",
              "      <td>1.508712</td>\n",
              "      <td>-2.214140</td>\n",
              "      <td>-0.807850</td>\n",
              "      <td>0.797937</td>\n",
              "      <td>-0.481187</td>\n",
              "      <td>-0.501193</td>\n",
              "    </tr>\n",
              "    <tr>\n",
              "      <th>198</th>\n",
              "      <td>-0.866367</td>\n",
              "      <td>-0.992288</td>\n",
              "      <td>-1.344968</td>\n",
              "      <td>-1.394943</td>\n",
              "      <td>0.648405</td>\n",
              "      <td>0.013114</td>\n",
              "      <td>-1.249229</td>\n",
              "      <td>-0.481187</td>\n",
              "      <td>1.988863</td>\n",
              "    </tr>\n",
              "    <tr>\n",
              "      <th>380</th>\n",
              "      <td>-0.866367</td>\n",
              "      <td>-0.710533</td>\n",
              "      <td>-0.423567</td>\n",
              "      <td>-0.968107</td>\n",
              "      <td>-0.402403</td>\n",
              "      <td>1.655043</td>\n",
              "      <td>-1.249229</td>\n",
              "      <td>-0.481187</td>\n",
              "      <td>1.988863</td>\n",
              "    </tr>\n",
              "  </tbody>\n",
              "</table>\n",
              "</div>"
            ],
            "text/plain": [
              "     Cylinders  Displacement  Horsepower  ...       USA    Europe     Japan\n",
              "183  -0.866367     -0.749396   -0.607847  ... -1.249229  2.071553 -0.501193\n",
              "130  -0.866367     -0.691101   -0.634173  ...  0.797937 -0.481187 -0.501193\n",
              "116   1.496795      2.009858    3.314688  ...  0.797937 -0.481187 -0.501193\n",
              "198  -0.866367     -0.992288   -1.344968  ... -1.249229 -0.481187  1.988863\n",
              "380  -0.866367     -0.710533   -0.423567  ... -1.249229 -0.481187  1.988863\n",
              "\n",
              "[5 rows x 9 columns]"
            ]
          },
          "metadata": {
            "tags": []
          },
          "execution_count": 15
        }
      ]
    },
    {
      "cell_type": "code",
      "metadata": {
        "id": "TTJo7JcFsTr3",
        "outputId": "14361f27-65ea-452e-b0af-aaeb2c51a5b6",
        "colab": {
          "base_uri": "https://localhost:8080/",
          "height": 204
        }
      },
      "source": [
        "# View testing data\n",
        "x_test.tail()"
      ],
      "execution_count": 16,
      "outputs": [
        {
          "output_type": "execute_result",
          "data": {
            "text/html": [
              "<div>\n",
              "<style scoped>\n",
              "    .dataframe tbody tr th:only-of-type {\n",
              "        vertical-align: middle;\n",
              "    }\n",
              "\n",
              "    .dataframe tbody tr th {\n",
              "        vertical-align: top;\n",
              "    }\n",
              "\n",
              "    .dataframe thead th {\n",
              "        text-align: right;\n",
              "    }\n",
              "</style>\n",
              "<table border=\"1\" class=\"dataframe\">\n",
              "  <thead>\n",
              "    <tr style=\"text-align: right;\">\n",
              "      <th></th>\n",
              "      <th>Cylinders</th>\n",
              "      <th>Displacement</th>\n",
              "      <th>Horsepower</th>\n",
              "      <th>Weight</th>\n",
              "      <th>Acceleration</th>\n",
              "      <th>Model Year</th>\n",
              "      <th>USA</th>\n",
              "      <th>Europe</th>\n",
              "      <th>Japan</th>\n",
              "    </tr>\n",
              "  </thead>\n",
              "  <tbody>\n",
              "    <tr>\n",
              "      <th>190</th>\n",
              "      <td>1.496795</td>\n",
              "      <td>1.533789</td>\n",
              "      <td>1.261280</td>\n",
              "      <td>1.435039</td>\n",
              "      <td>-1.018393</td>\n",
              "      <td>0.013114</td>\n",
              "      <td>0.797937</td>\n",
              "      <td>-0.481187</td>\n",
              "      <td>-0.501193</td>\n",
              "    </tr>\n",
              "    <tr>\n",
              "      <th>147</th>\n",
              "      <td>-0.866367</td>\n",
              "      <td>-1.002003</td>\n",
              "      <td>-0.765801</td>\n",
              "      <td>-1.028916</td>\n",
              "      <td>-0.040055</td>\n",
              "      <td>-0.534195</td>\n",
              "      <td>-1.249229</td>\n",
              "      <td>2.071553</td>\n",
              "      <td>-0.501193</td>\n",
              "    </tr>\n",
              "    <tr>\n",
              "      <th>3</th>\n",
              "      <td>1.496795</td>\n",
              "      <td>1.077152</td>\n",
              "      <td>1.208629</td>\n",
              "      <td>0.520557</td>\n",
              "      <td>-1.308271</td>\n",
              "      <td>-1.628814</td>\n",
              "      <td>0.797937</td>\n",
              "      <td>-0.481187</td>\n",
              "      <td>-0.501193</td>\n",
              "    </tr>\n",
              "    <tr>\n",
              "      <th>282</th>\n",
              "      <td>-0.866367</td>\n",
              "      <td>-0.516219</td>\n",
              "      <td>-0.423567</td>\n",
              "      <td>-0.114434</td>\n",
              "      <td>0.612170</td>\n",
              "      <td>0.834079</td>\n",
              "      <td>0.797937</td>\n",
              "      <td>-0.481187</td>\n",
              "      <td>-0.501193</td>\n",
              "    </tr>\n",
              "    <tr>\n",
              "      <th>335</th>\n",
              "      <td>-0.866367</td>\n",
              "      <td>-0.691101</td>\n",
              "      <td>-0.423567</td>\n",
              "      <td>-0.570506</td>\n",
              "      <td>-0.184994</td>\n",
              "      <td>1.107733</td>\n",
              "      <td>-1.249229</td>\n",
              "      <td>2.071553</td>\n",
              "      <td>-0.501193</td>\n",
              "    </tr>\n",
              "  </tbody>\n",
              "</table>\n",
              "</div>"
            ],
            "text/plain": [
              "     Cylinders  Displacement  Horsepower  ...       USA    Europe     Japan\n",
              "190   1.496795      1.533789    1.261280  ...  0.797937 -0.481187 -0.501193\n",
              "147  -0.866367     -1.002003   -0.765801  ... -1.249229  2.071553 -0.501193\n",
              "3     1.496795      1.077152    1.208629  ...  0.797937 -0.481187 -0.501193\n",
              "282  -0.866367     -0.516219   -0.423567  ...  0.797937 -0.481187 -0.501193\n",
              "335  -0.866367     -0.691101   -0.423567  ... -1.249229  2.071553 -0.501193\n",
              "\n",
              "[5 rows x 9 columns]"
            ]
          },
          "metadata": {
            "tags": []
          },
          "execution_count": 16
        }
      ]
    },
    {
      "cell_type": "code",
      "metadata": {
        "id": "XX2i2EUn_BHT"
      },
      "source": [
        "# Built a sequential neural network model.  Start with backend.clear_session()\n",
        "# Think about what activation function you will use, the input shape, number of nodes, and output shape and activation\n",
        "backend.clear_session()\n",
        "model = models.Sequential()\n",
        "model.add(layers.Dense(64, activation = 'relu', input_shape = (len(x_train.keys()),)))\n",
        "model.add(layers.Dense(64, activation = 'relu'))\n",
        "model.add(layers.Dense(1))"
      ],
      "execution_count": 17,
      "outputs": []
    },
    {
      "cell_type": "code",
      "metadata": {
        "id": "A3mv0oLBR3XW"
      },
      "source": [
        "# Compile the model.  Use 'adam' optimizer.  Think about what loss function and metrics you need to use for a regression problem\n",
        "model.compile(optimizer = 'RMSprop', loss  = 'mse', metrics=['mae'])"
      ],
      "execution_count": 18,
      "outputs": []
    },
    {
      "cell_type": "code",
      "metadata": {
        "id": "2wcQnjyUtBYY"
      },
      "source": [
        "# Validation Split\n",
        "p_x_train, x_valid, p_y_train, y_valid = train_test_split(x_train, y_train, test_size=0.2, shuffle= True)"
      ],
      "execution_count": 19,
      "outputs": []
    },
    {
      "cell_type": "code",
      "metadata": {
        "id": "vJ8KVfLF_Hv1"
      },
      "source": [
        "# Fit the model.  Use 1000 epochs.  Add a validation spit to your model.  Set verbose = 0.\n",
        "nn = model.fit(p_x_train,\n",
        "                   p_y_train,\n",
        "                   epochs = 1000,\n",
        "                   batch_size=100,\n",
        "                   validation_data=(x_valid, y_valid),\n",
        "                   verbose = 0)"
      ],
      "execution_count": 20,
      "outputs": []
    },
    {
      "cell_type": "code",
      "metadata": {
        "id": "oRfKjuM8UB5T",
        "outputId": "de881ac2-5d06-43f4-933b-6e6b05187293",
        "colab": {
          "base_uri": "https://localhost:8080/",
          "height": 119
        }
      },
      "source": [
        "# Use this bit of code to view the History output.\n",
        "hist = pd.DataFrame(nn.history)\n",
        "print(hist.tail())"
      ],
      "execution_count": 21,
      "outputs": [
        {
          "output_type": "stream",
          "text": [
            "         loss       mae  val_loss   val_mae\n",
            "995  2.422738  1.070682  7.462370  2.034823\n",
            "996  2.248950  0.995021  7.414842  2.022573\n",
            "997  2.223984  0.986277  7.471417  2.046267\n",
            "998  2.279603  0.995987  7.379658  2.050990\n",
            "999  2.205246  0.963103  7.349053  1.997368\n"
          ],
          "name": "stdout"
        }
      ]
    },
    {
      "cell_type": "code",
      "metadata": {
        "id": "Hr819dPc9aXk"
      },
      "source": [
        "#Plot the loss and MAE vs epochs\n",
        "import matplotlib.pyplot as plt\n",
        "history_dict = nn.history\n",
        "loss_values = history_dict['loss']\n",
        "val_loss_values = history_dict['val_loss']\n",
        "acc_values = history_dict['mae']\n",
        "val_acc_values = history_dict['val_mae']\n",
        "epochs = range(1, len(history_dict['mae']) + 1)"
      ],
      "execution_count": 22,
      "outputs": []
    },
    {
      "cell_type": "code",
      "metadata": {
        "id": "TXiqSkQo9aXs",
        "outputId": "3808614a-8b7a-4644-8dd4-9bdfc6912c98",
        "colab": {
          "base_uri": "https://localhost:8080/",
          "height": 295
        }
      },
      "source": [
        "# Use the Boston Housing example to plot the validataion and training loss vs epochs\n",
        "plt.plot(epochs, loss_values, 'r', label = 'Training loss')\n",
        "plt.plot(epochs, val_loss_values, 'b', label = 'Validation loss')\n",
        "plt.ylim(0,20)\n",
        "plt.title('Training and validation loss')\n",
        "plt.xlabel('Epochs')\n",
        "plt.ylabel('Loss')\n",
        "plt.legend()\n",
        "plt.show()"
      ],
      "execution_count": 23,
      "outputs": [
        {
          "output_type": "display_data",
          "data": {
            "image/png": "[encoded data removed]",
            "text/plain": [
              "<Figure size 432x288 with 1 Axes>"
            ]
          },
          "metadata": {
            "tags": [],
            "needs_background": "light"
          }
        }
      ]
    },
    {
      "cell_type": "code",
      "metadata": {
        "id": "04CcZh8x9aYH",
        "outputId": "71f75fb6-a30b-4c1f-ad59-99017492ec7e",
        "colab": {
          "base_uri": "https://localhost:8080/",
          "height": 295
        }
      },
      "source": [
        "# Use the Boston Housing example to plot the validataion and training mean absolute error vs epochs\n",
        "plt.plot(epochs, acc_values, 'r', label = 'Training MAE')\n",
        "plt.plot(epochs, val_acc_values, 'b', label = 'Validation MAE')\n",
        "plt.ylim(0,5)\n",
        "plt.title('Training and validation MAE')\n",
        "plt.xlabel('Epochs')\n",
        "plt.ylabel('MAE')\n",
        "plt.legend()\n",
        "plt.show()"
      ],
      "execution_count": 24,
      "outputs": [
        {
          "output_type": "display_data",
          "data": {
            "image/png": "[encoded data removed]",
            "text/plain": [
              "<Figure size 432x288 with 1 Axes>"
            ]
          },
          "metadata": {
            "tags": [],
            "needs_background": "light"
          }
        }
      ]
    },
    {
      "cell_type": "code",
      "metadata": {
        "id": "7RRZWTz_9aYR",
        "outputId": "aeb2689b-befc-4154-9a63-ac7e23369152",
        "colab": {
          "base_uri": "https://localhost:8080/",
          "height": 68
        }
      },
      "source": [
        "# Evaluate the model on the test data and print the results\n",
        "results = model.evaluate(x_test, y_test)\n",
        "print(results)\n",
        "print(model.metrics_names)"
      ],
      "execution_count": 25,
      "outputs": [
        {
          "output_type": "stream",
          "text": [
            "3/3 [==============================] - 0s 2ms/step - loss: 11.7530 - mae: 2.4496\n",
            "[11.752970695495605, 2.4495508670806885]\n",
            "['loss', 'mae']\n"
          ],
          "name": "stdout"
        }
      ]
    },
    {
      "cell_type": "code",
      "metadata": {
        "id": "qyRudHeQdRLt",
        "outputId": "65cc13ad-7718-439a-d52d-0365f583ce14",
        "colab": {
          "base_uri": "https://localhost:8080/",
          "height": 68
        }
      },
      "source": [
        "# Clear your session using this command: backend.clear_session() \n",
        "# Things to try: more hidden layers and hiddent units, activation types, epochs, batch size, and validation_split.\n",
        "# Try as many models as you like.  Be sure to clear the session each time.  backend.clear_session() \n",
        "\n",
        "# Increase hidden units\n",
        "backend.clear_session()\n",
        "model = models.Sequential()\n",
        "model.add(layers.Dense(64, activation = 'relu', input_shape = (len(x_train.keys()),)))\n",
        "model.add(layers.Dense(128, activation = 'relu')) # Increased to 128\n",
        "model.add(layers.Dense(1))\n",
        "model.compile(optimizer = 'RMSprop', loss  = 'mse', metrics=['mae'])\n",
        "nn = model.fit(x_train,\n",
        "                   y_train,\n",
        "                   epochs = 1000,\n",
        "                   batch_size=100,\n",
        "                   verbose = 0)\n",
        "results = model.evaluate(x_test, y_test)\n",
        "print(results)\n",
        "print(model.metrics_names)"
      ],
      "execution_count": 29,
      "outputs": [
        {
          "output_type": "stream",
          "text": [
            "3/3 [==============================] - 0s 2ms/step - loss: 10.5488 - mae: 2.2129\n",
            "[10.548754692077637, 2.2129359245300293]\n",
            "['loss', 'mae']\n"
          ],
          "name": "stdout"
        }
      ]
    },
    {
      "cell_type": "markdown",
      "metadata": {
        "id": "N0sCsqa91CQp"
      },
      "source": [
        "The loss and the mae decreased with an increase in the hidden units"
      ]
    },
    {
      "cell_type": "code",
      "metadata": {
        "id": "cMO82Oas1INI",
        "outputId": "993674cf-e905-454a-9414-e66f790ef1f8",
        "colab": {
          "base_uri": "https://localhost:8080/",
          "height": 68
        }
      },
      "source": [
        "# Change Optimizer\n",
        "backend.clear_session()\n",
        "model = models.Sequential()\n",
        "model.add(layers.Dense(64, activation = 'relu', input_shape = (len(x_train.keys()),)))\n",
        "model.add(layers.Dense(128, activation = 'relu')) # Increased to 128\n",
        "model.add(layers.Dense(1))\n",
        "model.compile(optimizer = 'adam', loss  = 'mse', metrics=['mae'])\n",
        "nn = model.fit(x_train,\n",
        "                   y_train,\n",
        "                   epochs = 1000,\n",
        "                   batch_size=100,\n",
        "                   verbose = 0)\n",
        "results = model.evaluate(x_test, y_test)\n",
        "print(results)\n",
        "print(model.metrics_names)"
      ],
      "execution_count": 30,
      "outputs": [
        {
          "output_type": "stream",
          "text": [
            "3/3 [==============================] - 0s 3ms/step - loss: 9.8428 - mae: 2.1403\n",
            "[9.842799186706543, 2.1402761936187744]\n",
            "['loss', 'mae']\n"
          ],
          "name": "stdout"
        }
      ]
    },
    {
      "cell_type": "markdown",
      "metadata": {
        "id": "JIK_NzEK1Q_N"
      },
      "source": [
        "The adam optimizer performed slightly better than the rmrprop optimzier"
      ]
    },
    {
      "cell_type": "code",
      "metadata": {
        "id": "db045lV31e4o",
        "outputId": "2df886fc-1db2-46b2-e9f4-20ee1579b505",
        "colab": {
          "base_uri": "https://localhost:8080/",
          "height": 105
        }
      },
      "source": [
        "# Change epochs\n",
        "backend.clear_session()\n",
        "model = models.Sequential()\n",
        "model.add(layers.Dense(64, activation = 'relu', input_shape = (len(x_train.keys()),)))\n",
        "model.add(layers.Dense(128, activation = 'relu')) # Increased to 128\n",
        "model.add(layers.Dense(1))\n",
        "model.compile(optimizer = 'adam', loss  = 'mse', metrics=['mae'])\n",
        "nn = model.fit(x_train,\n",
        "                   y_train,\n",
        "                   epochs = 100,\n",
        "                   batch_size=100,\n",
        "                   verbose = 0)\n",
        "results = model.evaluate(x_test, y_test)\n",
        "print(results)\n",
        "print(model.metrics_names)"
      ],
      "execution_count": 37,
      "outputs": [
        {
          "output_type": "stream",
          "text": [
            "WARNING:tensorflow:5 out of the last 1013 calls to <function Model.make_test_function.<locals>.test_function at 0x7f2d3dae91e0> triggered tf.function retracing. Tracing is expensive and the excessive number of tracings could be due to (1) creating @tf.function repeatedly in a loop, (2) passing tensors with different shapes, (3) passing Python objects instead of tensors. For (1), please define your @tf.function outside of the loop. For (2), @tf.function has experimental_relax_shapes=True option that relaxes argument shapes that can avoid unnecessary retracing. For (3), please refer to https://www.tensorflow.org/tutorials/customization/performance#python_or_tensor_args and https://www.tensorflow.org/api_docs/python/tf/function for  more details.\n",
            "3/3 [==============================] - 0s 3ms/step - loss: 9.1478 - mae: 2.0425\n",
            "[9.147751808166504, 2.042546272277832]\n",
            "['loss', 'mae']\n"
          ],
          "name": "stdout"
        }
      ]
    },
    {
      "cell_type": "markdown",
      "metadata": {
        "id": "Omj7ttwk1eqB"
      },
      "source": [
        "The loss and the mae further decreased with epochs set to 100"
      ]
    },
    {
      "cell_type": "code",
      "metadata": {
        "id": "9-OfhwTo1_Yx",
        "outputId": "a0632751-6e8f-4675-e531-511081e6995b",
        "colab": {
          "base_uri": "https://localhost:8080/",
          "height": 105
        }
      },
      "source": [
        "# Add additional hidden layers\n",
        "backend.clear_session()\n",
        "model = models.Sequential()\n",
        "model.add(layers.Dense(64, activation = 'relu', input_shape = (len(x_train.keys()),)))\n",
        "model.add(layers.Dense(128, activation = 'relu')) # Increased to 128\n",
        "model.add(layers.Dense(128, activation = 'relu')) # Added Layer\n",
        "model.add(layers.Dense(1))\n",
        "model.compile(optimizer = 'adam', loss  = 'mse', metrics=['mae'])\n",
        "nn = model.fit(x_train,\n",
        "                   y_train,\n",
        "                   epochs = 100,\n",
        "                   batch_size=100,\n",
        "                   verbose = 0)\n",
        "results = model.evaluate(x_test, y_test)\n",
        "print(results)\n",
        "print(model.metrics_names)"
      ],
      "execution_count": 40,
      "outputs": [
        {
          "output_type": "stream",
          "text": [
            "WARNING:tensorflow:5 out of the last 13 calls to <function Model.make_test_function.<locals>.test_function at 0x7f2d3ff9fae8> triggered tf.function retracing. Tracing is expensive and the excessive number of tracings could be due to (1) creating @tf.function repeatedly in a loop, (2) passing tensors with different shapes, (3) passing Python objects instead of tensors. For (1), please define your @tf.function outside of the loop. For (2), @tf.function has experimental_relax_shapes=True option that relaxes argument shapes that can avoid unnecessary retracing. For (3), please refer to https://www.tensorflow.org/tutorials/customization/performance#python_or_tensor_args and https://www.tensorflow.org/api_docs/python/tf/function for  more details.\n",
            "3/3 [==============================] - 0s 2ms/step - loss: 9.3086 - mae: 2.1917\n",
            "[9.30856704711914, 2.1917030811309814]\n",
            "['loss', 'mae']\n"
          ],
          "name": "stdout"
        }
      ]
    },
    {
      "cell_type": "markdown",
      "metadata": {
        "id": "F7EgrI332NxJ"
      },
      "source": [
        "The additional layers incrased the loss and mae, this is not what we want"
      ]
    }
  ]
}
