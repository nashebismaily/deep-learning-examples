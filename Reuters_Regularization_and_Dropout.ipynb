{
  "nbformat": 4,
  "nbformat_minor": 0,
  "metadata": {
    "colab": {
      "name": "Reuters_Regularization_and_Dropout_Assignment.ipynb",
      "provenance": [],
      "collapsed_sections": []
    },
    "kernelspec": {
      "display_name": "Python 3",
      "language": "python",
      "name": "python3"
    },
    "language_info": {
      "codemirror_mode": {
        "name": "ipython",
        "version": 3
      },
      "file_extension": ".py",
      "mimetype": "text/x-python",
      "name": "python",
      "nbconvert_exporter": "python",
      "pygments_lexer": "ipython3",
      "version": "3.7.1"
    }
  },
  "cells": [
    {
      "cell_type": "markdown",
      "metadata": {
        "id": "_r8s67aB71I1"
      },
      "source": [
        "# Reuters Regularization and Dropout Assignment\n",
        "## Adapted from Deep Learning with Python by Francois Chollet\n",
        "#### Use the Keras Reuters dataset to classify news wires into 46 different categories.  Use regularization and stopearly call backs to improve your neural network."
      ]
    },
    {
      "cell_type": "code",
      "metadata": {
        "id": "yc0j1J9b71I-"
      },
      "source": [
        "from IPython.core.display import display, HTML\n",
        "display(HTML(\"<style>.container { width:95% !important; }</style>\"))"
      ],
      "execution_count": null,
      "outputs": []
    },
    {
      "cell_type": "code",
      "metadata": {
        "id": "GMp26fFZ71JX"
      },
      "source": [
        "# Import all the necessary libraries and set the np and tf seed\n"
      ],
      "execution_count": null,
      "outputs": []
    },
    {
      "cell_type": "code",
      "metadata": {
        "id": "wyp2G_Q-71Jr"
      },
      "source": [
        "# Import the Reuters data set from the Keras library. https://keras.io/datasets/\n"
      ],
      "execution_count": null,
      "outputs": []
    },
    {
      "cell_type": "code",
      "metadata": {
        "id": "LUTyUitc71J9"
      },
      "source": [
        "# Define a function to vectorize the data.\n"
      ],
      "execution_count": null,
      "outputs": []
    },
    {
      "cell_type": "code",
      "metadata": {
        "id": "jZ2nOQDs71KL"
      },
      "source": [
        "# Vectorize the train_data and test_data\n"
      ],
      "execution_count": null,
      "outputs": []
    },
    {
      "cell_type": "code",
      "metadata": {
        "id": "sjBk4aI_71Ka"
      },
      "source": [
        "# Encode the labels to categorical. \n"
      ],
      "execution_count": null,
      "outputs": []
    },
    {
      "cell_type": "code",
      "metadata": {
        "id": "Cff1-XMa71Ki"
      },
      "source": [
        "# Split the data into training and validation\n"
      ],
      "execution_count": null,
      "outputs": []
    },
    {
      "cell_type": "markdown",
      "metadata": {
        "id": "EN7Sq5sa71Ks"
      },
      "source": [
        "# In each Jupiter Notebook cell build a model using validation data, show loss and accuracy monitoring graphs, and print model evaluation all in one cell.  \n",
        "\n",
        "# Make sure you keep the same number of hidden layers, hidden nodes (neurons), and early stopping callbacks consistent so you can accurately compare the different regularization techniques.  However, adjust parameters and hidden layers and nodes to build the best model at the end of the assignment.\n"
      ]
    },
    {
      "cell_type": "markdown",
      "metadata": {
        "id": "hGOIT5EY71Kv"
      },
      "source": [
        "## Build 2 different sequential neural network models utilizing 2 differnt l_1 regularization values (l1 = 0.001 and l1 = 0.01) and early stopping."
      ]
    },
    {
      "cell_type": "code",
      "metadata": {
        "id": "tERvF29N71Kz"
      },
      "source": [
        "# Build a sequential neural network model utilizing  l_1 = 0.01 and early stopping.\n"
      ],
      "execution_count": null,
      "outputs": []
    },
    {
      "cell_type": "code",
      "metadata": {
        "id": "5K0iNyDN71K-"
      },
      "source": [
        "# Build a sequential neural network model utilizing  l_1 = 0.001 and early stopping.\n"
      ],
      "execution_count": null,
      "outputs": []
    },
    {
      "cell_type": "markdown",
      "metadata": {
        "id": "Ydn8gMEf71LH"
      },
      "source": [
        "### Comment on how the different l1 regularization values affected the speed and accuracy of the model. (5 points)"
      ]
    },
    {
      "cell_type": "markdown",
      "metadata": {
        "id": "GoA3wKsF71LM"
      },
      "source": [
        "## Build 2 different sequential neural network model(s) utilizing 2 differnt l_2 regularization values (l1 = 0.001 and l1 = 0.01) and early stopping."
      ]
    },
    {
      "cell_type": "code",
      "metadata": {
        "id": "TPAMFgyv71LP"
      },
      "source": [
        "# Build a sequential neural network model utilizing  l_2 = 0.01 and early stopping.\n"
      ],
      "execution_count": null,
      "outputs": []
    },
    {
      "cell_type": "code",
      "metadata": {
        "id": "FjHB4PmL71La"
      },
      "source": [
        "# Build a sequential neural network model utilizing  l_2 = 0.001 and early stopping.\n"
      ],
      "execution_count": null,
      "outputs": []
    },
    {
      "cell_type": "markdown",
      "metadata": {
        "id": "1W1R9-Uj71Lm"
      },
      "source": [
        "### Comment on how the different l2 regularization values affected the speed and accuracy of the model and how did they compare, respectively to the l1 regularization?"
      ]
    },
    {
      "cell_type": "markdown",
      "metadata": {
        "id": "BtSUY-S371Lp"
      },
      "source": [
        "## Build 2 different sequential neural network model(s) utilizing dropouts (0.5 and 0.2) and early stopping."
      ]
    },
    {
      "cell_type": "code",
      "metadata": {
        "id": "OqbdoYV771Lv"
      },
      "source": [
        "# Build a sequential neural network model utilizing dropout = 0.5 and early stopping.\n"
      ],
      "execution_count": null,
      "outputs": []
    },
    {
      "cell_type": "code",
      "metadata": {
        "id": "dTPw0amO71L4"
      },
      "source": [
        "# Build a sequential neural network model utilizing dropout = 0.2 and early stopping.\n"
      ],
      "execution_count": null,
      "outputs": []
    },
    {
      "cell_type": "markdown",
      "metadata": {
        "id": "oagip5k771MD"
      },
      "source": [
        "### Comment on how the different dropouts  values affected the speed and accuracy of the model and how did they compare, respectively to the l1 and l2 regularization?"
      ]
    },
    {
      "cell_type": "markdown",
      "metadata": {
        "id": "9noVfYMj71MH"
      },
      "source": [
        "## Build a sequential neural network model utilizing batch normalization and early stopping.\n"
      ]
    },
    {
      "cell_type": "code",
      "metadata": {
        "id": "vpRpht2F71ML"
      },
      "source": [
        "# Build a sequential neural network model utilizing bach normalization and early stopping.\n"
      ],
      "execution_count": null,
      "outputs": []
    },
    {
      "cell_type": "markdown",
      "metadata": {
        "id": "6vgiC3XL71MZ"
      },
      "source": [
        "### Comment on how batch normalization affected the speed and accuracy of the model and how did it compare, respectively to the l1, l2, and dropout regularization?"
      ]
    },
    {
      "cell_type": "markdown",
      "metadata": {
        "id": "SLxKYYTB71Me"
      },
      "source": [
        "## Build your best model utilizing all or some of regularization, batch normalization, dropouts, and an early stopping."
      ]
    },
    {
      "cell_type": "code",
      "metadata": {
        "id": "cv6GUFDb71Mg"
      },
      "source": [
        "# Build your best model utilizing all or some of regularization, batch normalization, dropouts, and an early stopping.\n",
        "# See if you can get accuracy on the test data above 0.80.\n"
      ],
      "execution_count": null,
      "outputs": []
    },
    {
      "cell_type": "markdown",
      "metadata": {
        "id": "YO3M0qh471Mq"
      },
      "source": [
        "### Comment on which techniques you used to build the best model with the highest accuracy.  "
      ]
    }
  ]
}